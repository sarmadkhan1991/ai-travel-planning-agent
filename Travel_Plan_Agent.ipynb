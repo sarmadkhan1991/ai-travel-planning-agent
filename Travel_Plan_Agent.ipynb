{
  "nbformat": 4,
  "nbformat_minor": 0,
  "metadata": {
    "colab": {
      "provenance": [],
      "authorship_tag": "ABX9TyMWuUWCGGs13NFH7TY1nVWj",
      "include_colab_link": true
    },
    "kernelspec": {
      "name": "python3",
      "display_name": "Python 3"
    },
    "language_info": {
      "name": "python"
    }
  },
  "cells": [
    {
      "cell_type": "markdown",
      "metadata": {
        "id": "view-in-github",
        "colab_type": "text"
      },
      "source": [
        "<a href=\"https://colab.research.google.com/github/sarmadkhan1991/ai-travel-planning-agent/blob/main/Travel_Plan_Agent.ipynb\" target=\"_parent\"><img src=\"https://colab.research.google.com/assets/colab-badge.svg\" alt=\"Open In Colab\"/></a>"
      ]
    },
    {
      "cell_type": "markdown",
      "source": [
        "# **1. Install Dependencies**\n",
        "\n",
        "We need **LangGraph** for orchestration and **LangChain** for helper classes.  \n",
        "Run the cell below, then **restart the kernel** so the new packages load cleanly."
      ],
      "metadata": {
        "id": "3u2FK-9dmGSb"
      }
    },
    {
      "cell_type": "code",
      "execution_count": 1,
      "metadata": {
        "colab": {
          "base_uri": "https://localhost:8080/"
        },
        "id": "eQ-55hZkk3Xe",
        "outputId": "2b22678b-fda2-4c5c-bcaa-537755da6ff3"
      },
      "outputs": [
        {
          "output_type": "stream",
          "name": "stdout",
          "text": [
            "\u001b[?25l     \u001b[90m━━━━━━━━━━━━━━━━━━━━━━━━━━━━━━━━━━━━━━━━\u001b[0m \u001b[32m0.0/43.7 kB\u001b[0m \u001b[31m?\u001b[0m eta \u001b[36m-:--:--\u001b[0m\r\u001b[2K     \u001b[90m━━━━━━━━━━━━━━━━━━━━━━━━━━━━━━━━━━━━━━━━\u001b[0m \u001b[32m43.7/43.7 kB\u001b[0m \u001b[31m2.5 MB/s\u001b[0m eta \u001b[36m0:00:00\u001b[0m\n",
            "\u001b[?25h\u001b[?25l   \u001b[90m━━━━━━━━━━━━━━━━━━━━━━━━━━━━━━━━━━━━━━━━\u001b[0m \u001b[32m0.0/153.3 kB\u001b[0m \u001b[31m?\u001b[0m eta \u001b[36m-:--:--\u001b[0m\r\u001b[2K   \u001b[90m━━━━━━━━━━━━━━━━━━━━━━━━━━━━━━━━━━━━━━━━\u001b[0m \u001b[32m153.3/153.3 kB\u001b[0m \u001b[31m8.6 MB/s\u001b[0m eta \u001b[36m0:00:00\u001b[0m\n",
            "\u001b[?25h\u001b[?25l   \u001b[90m━━━━━━━━━━━━━━━━━━━━━━━━━━━━━━━━━━━━━━━━\u001b[0m \u001b[32m0.0/43.9 kB\u001b[0m \u001b[31m?\u001b[0m eta \u001b[36m-:--:--\u001b[0m\r\u001b[2K   \u001b[90m━━━━━━━━━━━━━━━━━━━━━━━━━━━━━━━━━━━━━━━━\u001b[0m \u001b[32m43.9/43.9 kB\u001b[0m \u001b[31m3.4 MB/s\u001b[0m eta \u001b[36m0:00:00\u001b[0m\n",
            "\u001b[2K   \u001b[90m━━━━━━━━━━━━━━━━━━━━━━━━━━━━━━━━━━━━━━━━\u001b[0m \u001b[32m56.8/56.8 kB\u001b[0m \u001b[31m4.3 MB/s\u001b[0m eta \u001b[36m0:00:00\u001b[0m\n",
            "\u001b[2K   \u001b[90m━━━━━━━━━━━━━━━━━━━━━━━━━━━━━━━━━━━━━━━━\u001b[0m \u001b[32m216.7/216.7 kB\u001b[0m \u001b[31m16.2 MB/s\u001b[0m eta \u001b[36m0:00:00\u001b[0m\n",
            "\u001b[?25h"
          ]
        }
      ],
      "source": [
        "!pip install -q --upgrade langgraph langchain"
      ]
    },
    {
      "cell_type": "markdown",
      "source": [
        "# **2. Define Shared State**\n",
        "\n",
        "The **state** is a single `TypedDict` that every agent can **read** and **update**  \n",
        "— think of it as a strongly-typed, mutable “whiteboard”."
      ],
      "metadata": {
        "id": "VGyvlq_9mb0s"
      }
    },
    {
      "cell_type": "code",
      "source": [
        "from typing import TypedDict\n",
        "\n",
        "class TravelState(TypedDict, total=False):\n",
        "    user_input: str          # raw question\n",
        "    destination: str         # “Bali”, “Manali”, …\n",
        "    itinerary: str           # multi-day plan\n",
        "    activities: str          # granular activities"
      ],
      "metadata": {
        "id": "80j581_omOCY"
      },
      "execution_count": 2,
      "outputs": []
    },
    {
      "cell_type": "markdown",
      "source": [
        "# **3. Create Simple Agents**\n",
        "\n",
        "| Agent | Responsibility |\n",
        "| --- | --- |\n",
        "| `destination_agent` | Choose a place that matches the user’s intent |\n",
        "| `itinerary_agent` | Draft a rough, three-day itinerary |\n",
        "| `activity_agent` | Suggest activities fitting that place |\n",
        "\n",
        "Each agent is an ordinary Python function that takes `TravelState` ➜ returns an **updated** `TravelState`."
      ],
      "metadata": {
        "id": "_n2CIu1gmtWX"
      }
    },
    {
      "cell_type": "code",
      "source": [
        "def destination_agent(state: TravelState) -> TravelState:\n",
        "    print(\"🔧 destination_agent running…\")\n",
        "    q = state.get(\"user_input\", \"\").lower()\n",
        "\n",
        "    if \"beach\" in q:\n",
        "        dest = \"Bali\"\n",
        "    elif \"snow\" in q or \"mountain\" in q:\n",
        "        dest = \"Manali\"\n",
        "    else:\n",
        "        dest = \"Kyoto\"  # sensible default\n",
        "\n",
        "    print(f\"🌍 Suggested destination: {dest}\")\n",
        "    return {**state, \"destination\": dest}"
      ],
      "metadata": {
        "id": "rXBjpBhPmqs5"
      },
      "execution_count": 3,
      "outputs": []
    },
    {
      "cell_type": "code",
      "source": [
        "def itinerary_agent(state: TravelState) -> TravelState:\n",
        "    print(\"🔧 itinerary_agent running…\")\n",
        "    dest = state[\"destination\"]\n",
        "    plan = (\n",
        "        f\"Day 1: Arrive in {dest}\\n\"\n",
        "        f\"Day 2: Explore iconic spots in {dest}\\n\"\n",
        "        f\"Day 3: Relax + sample local cuisine\"\n",
        "    )\n",
        "    print(f\"🧳 Draft itinerary:\\n{plan}\")\n",
        "    return {**state, \"itinerary\": plan}"
      ],
      "metadata": {
        "id": "PDcChdYBm3YU"
      },
      "execution_count": 4,
      "outputs": []
    },
    {
      "cell_type": "code",
      "source": [
        "def activity_agent(state: TravelState) -> TravelState:\n",
        "    print(\"🔧 activity_agent running…\")\n",
        "    dest = state[\"destination\"]\n",
        "    act = (\n",
        "        \"Snorkelling • Beach yoga\"\n",
        "        if dest == \"Bali\"\n",
        "        else \"Skiing • Mountain trek\"\n",
        "    )\n",
        "    print(f\"🎯 Suggested activities: {act}\")\n",
        "    return {**state, \"activities\": act}"
      ],
      "metadata": {
        "id": "_sQtSz02m7CA"
      },
      "execution_count": 5,
      "outputs": []
    },
    {
      "cell_type": "markdown",
      "source": [
        "# **4. Build the LangGraph WorkFlow**\n",
        "\n",
        "A `StateGraph` wires **nodes** (our agents) with **edges** (execution order).  \n",
        "Below we:\n",
        "\n",
        "1. add each agent as a node  \n",
        "2. set the entry & finish points  \n",
        "3. connect the nodes in series  \n",
        "4. compile to an executable graph"
      ],
      "metadata": {
        "id": "Yy7VvGXXnBzo"
      }
    },
    {
      "cell_type": "code",
      "source": [
        "from langgraph.graph import StateGraph\n",
        "\n",
        "builder = StateGraph(TravelState)\n",
        "\n",
        "builder.add_node(\"destination_agent\", destination_agent)\n",
        "builder.add_node(\"itinerary_agent\", itinerary_agent)\n",
        "builder.add_node(\"activity_agent\", activity_agent)\n",
        "\n",
        "builder.set_entry_point(\"destination_agent\")\n",
        "builder.add_edge(\"destination_agent\", \"itinerary_agent\")\n",
        "builder.add_edge(\"itinerary_agent\", \"activity_agent\")\n",
        "builder.set_finish_point(\"activity_agent\")\n",
        "\n",
        "travel_graph = builder.compile()\n",
        "print(\"✅ Graph compiled.\")"
      ],
      "metadata": {
        "colab": {
          "base_uri": "https://localhost:8080/"
        },
        "id": "6t1B9Mq_nKWg",
        "outputId": "63fe9a66-110a-4834-9009-04b3f8b695e0"
      },
      "execution_count": 6,
      "outputs": [
        {
          "output_type": "stream",
          "name": "stdout",
          "text": [
            "✅ Graph compiled.\n"
          ]
        }
      ]
    },
    {
      "cell_type": "code",
      "source": [
        "from IPython.display import Image, display\n",
        "\n",
        "display(Image(travel_graph.get_graph().draw_mermaid_png()))"
      ],
      "metadata": {
        "colab": {
          "base_uri": "https://localhost:8080/",
          "height": 449
        },
        "id": "3UEIGuDvnWaG",
        "outputId": "4098ecdd-4a2a-47a2-a3cf-a53cb2fe67f0"
      },
      "execution_count": 7,
      "outputs": [
        {
          "output_type": "display_data",
          "data": {
            "image/png": "[encoded data removed]",
            "text/plain": [
              "<IPython.core.display.Image object>"
            ]
          },
          "metadata": {}
        }
      ]
    },
    {
      "cell_type": "markdown",
      "source": [
        "# **5. Run and Inspect**\n",
        "\n",
        "Let’s invoke the graph with a sample query and watch the logged output."
      ],
      "metadata": {
        "id": "G-W_WkcHncJS"
      }
    },
    {
      "cell_type": "code",
      "source": [
        "initial_state: TravelState = {\n",
        "    \"user_input\": \"I want a relaxing beach vacation\"\n",
        "}\n",
        "\n",
        "final_state = travel_graph.invoke(initial_state)\n",
        "\n",
        "print(\"\\n🏁 Final state:\")\n",
        "for k, v in final_state.items():\n",
        "    print(f\"{k}: {v}\")"
      ],
      "metadata": {
        "colab": {
          "base_uri": "https://localhost:8080/"
        },
        "id": "MQp6hqcenYC4",
        "outputId": "056c6aec-d5d5-44c6-815f-d0c9313ca472"
      },
      "execution_count": 8,
      "outputs": [
        {
          "output_type": "stream",
          "name": "stdout",
          "text": [
            "🔧 destination_agent running…\n",
            "🌍 Suggested destination: Bali\n",
            "🔧 itinerary_agent running…\n",
            "🧳 Draft itinerary:\n",
            "Day 1: Arrive in Bali\n",
            "Day 2: Explore iconic spots in Bali\n",
            "Day 3: Relax + sample local cuisine\n",
            "🔧 activity_agent running…\n",
            "🎯 Suggested activities: Snorkelling • Beach yoga\n",
            "\n",
            "🏁 Final state:\n",
            "user_input: I want a relaxing beach vacation\n",
            "destination: Bali\n",
            "itinerary: Day 1: Arrive in Bali\n",
            "Day 2: Explore iconic spots in Bali\n",
            "Day 3: Relax + sample local cuisine\n",
            "activities: Snorkelling • Beach yoga\n"
          ]
        }
      ]
    },
    {
      "cell_type": "markdown",
      "source": [
        "## 🔬 Understanding State Transitions\n",
        "\n",
        "Below is a condensed view of how the state mutated:\n",
        "\n",
        "| After node | `destination` | `itinerary` | `activities` |\n",
        "| --- | --- | --- | --- |\n",
        "| **initial** | — | — | — |\n",
        "| `destination_agent` | ✅ | — | — |\n",
        "| `itinerary_agent` | ✅ | ✅ | — |\n",
        "| `activity_agent` | ✅ | ✅ | ✅ |\n",
        "\n",
        "Each agent **adds** to (or updates) the same `TravelState` object — no hidden globals."
      ],
      "metadata": {
        "id": "6Ki5aA0VoU6Z"
      }
    },
    {
      "cell_type": "markdown",
      "source": [
        "# **Build a Multi-Agent System**\n",
        "\n",
        "| Step | Focus Area             | Description                                     |\n",
        "|------|------------------------|-------------------------------------------------|\n",
        "| 1️⃣   | Simple Agent           | Start by creating a basic LLM-powered agent     |\n",
        "| 2️⃣   |  Multi-Agent System   |  Combine multiple agents using LangGraph    |\n",
        "| 3️⃣   |  + Short-Term Memory   | Enhance the agent with session-level memory       |"
      ],
      "metadata": {
        "id": "Hlnf86mLone0"
      }
    },
    {
      "cell_type": "markdown",
      "source": [
        "## Step 1 — Setup & Imports\n",
        "\n",
        "- **Google Gemini**: Our powerful LLM for natural language understanding\n",
        "- **LangGraph**: Framework for building stateful, multi-agent workflows\n",
        "- **LangChain**: Tools for LLM application development\n",
        "\n",
        "### Tools:\n",
        "\n",
        "- **Gemini**\n",
        "- **LangGraph**\n",
        "- **Environment Variables**"
      ],
      "metadata": {
        "id": "26ScJ2UdoyLO"
      }
    },
    {
      "cell_type": "code",
      "source": [
        "!pip install -q google-generativeai==0.8.5 google-ai-generativelanguage==0.6.15\n",
        "!pip install -q langchain-google-genai langgraph python-dotenv"
      ],
      "metadata": {
        "colab": {
          "base_uri": "https://localhost:8080/"
        },
        "id": "SrIY4nbaoeIL",
        "outputId": "5101f271-18f4-41e7-a526-6555c44bdefd"
      },
      "execution_count": 10,
      "outputs": [
        {
          "output_type": "stream",
          "name": "stdout",
          "text": [
            "\u001b[?25l   \u001b[90m━━━━━━━━━━━━━━━━━━━━━━━━━━━━━━━━━━━━━━━━\u001b[0m \u001b[32m0.0/1.3 MB\u001b[0m \u001b[31m?\u001b[0m eta \u001b[36m-:--:--\u001b[0m\r\u001b[2K   \u001b[91m━━━━━━━━━━━━━━━━━━━━━━━━━━━━━━\u001b[0m\u001b[90m╺\u001b[0m\u001b[90m━━━━━━━━━\u001b[0m \u001b[32m1.0/1.3 MB\u001b[0m \u001b[31m29.8 MB/s\u001b[0m eta \u001b[36m0:00:01\u001b[0m\r\u001b[2K   \u001b[90m━━━━━━━━━━━━━━━━━━━━━━━━━━━━━━━━━━━━━━━━\u001b[0m \u001b[32m1.3/1.3 MB\u001b[0m \u001b[31m24.0 MB/s\u001b[0m eta \u001b[36m0:00:00\u001b[0m\n",
            "\u001b[?25h\u001b[31mERROR: pip's dependency resolver does not currently take into account all the packages that are installed. This behaviour is the source of the following dependency conflicts.\n",
            "langchain-google-genai 2.1.12 requires google-ai-generativelanguage<1,>=0.7, but you have google-ai-generativelanguage 0.6.15 which is incompatible.\u001b[0m\u001b[31m\n",
            "\u001b[0m\u001b[31mERROR: pip's dependency resolver does not currently take into account all the packages that are installed. This behaviour is the source of the following dependency conflicts.\n",
            "google-generativeai 0.8.5 requires google-ai-generativelanguage==0.6.15, but you have google-ai-generativelanguage 0.7.0 which is incompatible.\u001b[0m\u001b[31m\n",
            "\u001b[0m"
          ]
        }
      ]
    },
    {
      "cell_type": "code",
      "source": [
        "!pip install -q langchain"
      ],
      "metadata": {
        "id": "XI6oEDmhpXRK"
      },
      "execution_count": 11,
      "outputs": []
    },
    {
      "cell_type": "code",
      "source": [
        "from dotenv import load_dotenv\n",
        "import os, getpass\n",
        "\n",
        "# Load API key\n",
        "load_dotenv()\n",
        "os.environ[\"GOOGLE_API_KEY\"] = getpass.getpass(\"GOOGLE_API_KEY\")"
      ],
      "metadata": {
        "colab": {
          "base_uri": "https://localhost:8080/"
        },
        "id": "7hbX6EJ7p1MG",
        "outputId": "590ec383-3d08-407c-da34-ea200dc68998"
      },
      "execution_count": 12,
      "outputs": [
        {
          "name": "stdout",
          "output_type": "stream",
          "text": [
            "GOOGLE_API_KEY··········\n"
          ]
        }
      ]
    },
    {
      "cell_type": "code",
      "source": [
        "import google.generativeai as genai\n",
        "from langchain_google_genai import ChatGoogleGenerativeAI\n",
        "from langchain_core.messages import HumanMessage, AIMessage\n",
        "from langchain_core.output_parsers import StrOutputParser\n",
        "from langchain_core.prompts import ChatPromptTemplate, MessagesPlaceholder\n",
        "from langgraph.graph import StateGraph, END"
      ],
      "metadata": {
        "id": "eOK5VXymp5N0"
      },
      "execution_count": 13,
      "outputs": []
    },
    {
      "cell_type": "markdown",
      "source": [
        "## Step 2 — Core LLM Chain\n",
        "\n",
        "Set up the core LLM using the `ChatGoogleGenerativeAI` class from LangChain (or your preferred wrapper). This model will power our generative AI tasks."
      ],
      "metadata": {
        "id": "7RCiNSW4qFSm"
      }
    },
    {
      "cell_type": "code",
      "source": [
        "llm = ChatGoogleGenerativeAI(\n",
        "    model=\"gemini-2.0-flash\",\n",
        "    temperature=0.2\n",
        ")"
      ],
      "metadata": {
        "id": "Qxd2OvBCp_qz"
      },
      "execution_count": 22,
      "outputs": []
    },
    {
      "cell_type": "markdown",
      "source": [
        "## Step 3 - Create Individual Agents"
      ],
      "metadata": {
        "id": "cHVoEo9dqTok"
      }
    },
    {
      "cell_type": "markdown",
      "source": [
        "### Itenary Agent\n",
        "\n",
        "Helps in planning the full travel itinerary and provides travel-related answers"
      ],
      "metadata": {
        "id": "0wiLbGpDqXvV"
      }
    },
    {
      "cell_type": "code",
      "source": [
        "!pip install -q tavily-python langchain-community"
      ],
      "metadata": {
        "colab": {
          "base_uri": "https://localhost:8080/"
        },
        "id": "FjgrC-FYqcNK",
        "outputId": "5a2376b7-3cc2-4505-eda0-6f038272ef5f"
      },
      "execution_count": 14,
      "outputs": [
        {
          "output_type": "stream",
          "name": "stdout",
          "text": [
            "\u001b[?25l   \u001b[90m━━━━━━━━━━━━━━━━━━━━━━━━━━━━━━━━━━━━━━━━\u001b[0m \u001b[32m0.0/2.5 MB\u001b[0m \u001b[31m?\u001b[0m eta \u001b[36m-:--:--\u001b[0m\r\u001b[2K   \u001b[91m━━━━━━━━━━━━━━━━━━━━━━━━━━━━━━━━━━━━\u001b[0m\u001b[90m╺\u001b[0m\u001b[90m━━━\u001b[0m \u001b[32m2.3/2.5 MB\u001b[0m \u001b[31m67.8 MB/s\u001b[0m eta \u001b[36m0:00:01\u001b[0m\r\u001b[2K   \u001b[90m━━━━━━━━━━━━━━━━━━━━━━━━━━━━━━━━━━━━━━━━\u001b[0m \u001b[32m2.5/2.5 MB\u001b[0m \u001b[31m40.7 MB/s\u001b[0m eta \u001b[36m0:00:00\u001b[0m\n",
            "\u001b[?25h\u001b[?25l   \u001b[90m━━━━━━━━━━━━━━━━━━━━━━━━━━━━━━━━━━━━━━━━\u001b[0m \u001b[32m0.0/64.7 kB\u001b[0m \u001b[31m?\u001b[0m eta \u001b[36m-:--:--\u001b[0m\r\u001b[2K   \u001b[90m━━━━━━━━━━━━━━━━━━━━━━━━━━━━━━━━━━━━━━━━\u001b[0m \u001b[32m64.7/64.7 kB\u001b[0m \u001b[31m4.8 MB/s\u001b[0m eta \u001b[36m0:00:00\u001b[0m\n",
            "\u001b[?25h\u001b[?25l   \u001b[90m━━━━━━━━━━━━━━━━━━━━━━━━━━━━━━━━━━━━━━━━\u001b[0m \u001b[32m0.0/50.9 kB\u001b[0m \u001b[31m?\u001b[0m eta \u001b[36m-:--:--\u001b[0m\r\u001b[2K   \u001b[90m━━━━━━━━━━━━━━━━━━━━━━━━━━━━━━━━━━━━━━━━\u001b[0m \u001b[32m50.9/50.9 kB\u001b[0m \u001b[31m3.2 MB/s\u001b[0m eta \u001b[36m0:00:00\u001b[0m\n",
            "\u001b[?25h\u001b[31mERROR: pip's dependency resolver does not currently take into account all the packages that are installed. This behaviour is the source of the following dependency conflicts.\n",
            "google-colab 1.0.0 requires requests==2.32.4, but you have requests 2.32.5 which is incompatible.\u001b[0m\u001b[31m\n",
            "\u001b[0m"
          ]
        }
      ]
    },
    {
      "cell_type": "code",
      "source": [
        "from langchain_core.tools import tool\n",
        "from langchain_core.messages import ToolMessage\n",
        "from typing import TypedDict, Annotated, List, Union\n",
        "import json"
      ],
      "metadata": {
        "id": "08mJh8xVqhVe"
      },
      "execution_count": 15,
      "outputs": []
    },
    {
      "cell_type": "code",
      "source": [
        "os.environ[\"TAVILY_API_KEY\"] = getpass.getpass(\"TAVILY_API_KEY\")"
      ],
      "metadata": {
        "colab": {
          "base_uri": "https://localhost:8080/"
        },
        "id": "n-_Bv9TXquZc",
        "outputId": "3e92e67a-3f00-4117-af77-f88450b85809"
      },
      "execution_count": 16,
      "outputs": [
        {
          "name": "stdout",
          "output_type": "stream",
          "text": [
            "TAVILY_API_KEY··········\n"
          ]
        }
      ]
    },
    {
      "cell_type": "code",
      "source": [
        "!pip install -q -U langchain-tavily"
      ],
      "metadata": {
        "id": "Fu8FZyBLq2zY"
      },
      "execution_count": 17,
      "outputs": []
    },
    {
      "cell_type": "markdown",
      "source": [
        "###### Use TavilySearch Tool from LangChain\n",
        "\n",
        "Now that we’ve set up the Tavily API key, we can use the `TavilySearch` tool to perform real-time web searches within LangChain."
      ],
      "metadata": {
        "id": "-ITYR6kEq97w"
      }
    },
    {
      "cell_type": "code",
      "source": [
        "from langchain_tavily import TavilySearch\n",
        "\n",
        "tool = TavilySearch(max_results=2)\n",
        "tools = [tool]"
      ],
      "metadata": {
        "id": "hu8PQmUarDan"
      },
      "execution_count": 18,
      "outputs": []
    },
    {
      "cell_type": "code",
      "source": [
        "# Test TavilySearch\n",
        "tool.invoke(\"What's a 'node' in LangGraph?\")"
      ],
      "metadata": {
        "colab": {
          "base_uri": "https://localhost:8080/"
        },
        "id": "w9oE5SVMrIrT",
        "outputId": "15af6fe1-3adc-44db-f965-9996a39327bc"
      },
      "execution_count": 19,
      "outputs": [
        {
          "output_type": "execute_result",
          "data": {
            "text/plain": [
              "{'query': \"What's a 'node' in LangGraph?\",\n",
              " 'follow_up_questions': None,\n",
              " 'answer': None,\n",
              " 'images': [],\n",
              " 'results': [{'url': 'https://www.ionio.ai/blog/a-comprehensive-guide-about-langgraph-code-included',\n",
              "   'title': 'A Comprehensive Guide About Langgraph: Code Included - Ionio',\n",
              "   'content': 'A node can be any function or tool your agent uses in langgraph and these nodes are connected with other nodes using edges. Every workflow ends with a “END”',\n",
              "   'score': 0.89166987,\n",
              "   'raw_content': None},\n",
              "  {'url': 'https://medium.com/@kbdhunga/beginners-guide-to-langgraph-understanding-state-nodes-and-edges-part-1-897e6114fa48',\n",
              "   'title': \"Beginner's Guide to LangGraph: Understanding State, Nodes, and ...\",\n",
              "   'content': 'Nodes: Nodes are the fundamental building blocks of a graph. Each node represents a specific function or operation that processes the current',\n",
              "   'score': 0.838376,\n",
              "   'raw_content': None}],\n",
              " 'response_time': 1.16,\n",
              " 'request_id': 'a741eab3-ffe0-4989-8715-18d07b0809d4'}"
            ]
          },
          "metadata": {},
          "execution_count": 19
        }
      ]
    },
    {
      "cell_type": "code",
      "source": [
        "# itinerary agent prompt to include ReAct reasoning\n",
        "itenary_prompt = ChatPromptTemplate.from_messages([\n",
        "    (\"system\", \"\"\"You are an expert travel itinerary planner. ONLY respond to travel planning and itinerary-related questions.\n",
        "\n",
        "IMPORTANT RULES:\n",
        "- If asked about non-travel topics (weather, math, general questions), politely decline and redirect to travel planning\n",
        "- Always provide complete, well-formatted itineraries with specific details\n",
        "- Include timing, locations, transportation, and practical tips\n",
        "\n",
        "Use the ReAct approach:\n",
        "1. THOUGHT: Analyze what travel information is needed\n",
        "2. ACTION: Search for current information about destinations, attractions, prices, hours\n",
        "3. OBSERVATION: Process the search results\n",
        "4. Provide a comprehensive, formatted response\n",
        "\n",
        "Available tools:\n",
        "- TavilySearch: Search for current travel information\n",
        "\n",
        "Format your itineraries with:\n",
        "- Clear day-by-day breakdown\n",
        "- Specific times and locations\n",
        "- Transportation between locations\n",
        "- Estimated costs when possible\n",
        "- Practical tips and recommendations\"\"\"),\n",
        "    MessagesPlaceholder(variable_name=\"messages\"),\n",
        "])"
      ],
      "metadata": {
        "id": "S3HRan1erZvc"
      },
      "execution_count": 20,
      "outputs": []
    },
    {
      "cell_type": "code",
      "source": [
        "# Bind tools to the LLM\n",
        "llm_with_tools = llm.bind_tools(tools)"
      ],
      "metadata": {
        "id": "WsZVcZcZrmOJ"
      },
      "execution_count": 23,
      "outputs": []
    },
    {
      "cell_type": "code",
      "source": [
        "# Create itinerary agent\n",
        "itenary_agent = itenary_prompt | llm_with_tools"
      ],
      "metadata": {
        "id": "_q-WsK9AryqF"
      },
      "execution_count": 24,
      "outputs": []
    },
    {
      "cell_type": "markdown",
      "source": [
        "### Flight Search Agent\n",
        "\n",
        "Searches for hotels based on user queries (location, date, budget)"
      ],
      "metadata": {
        "id": "TPu_WIFmrz82"
      }
    },
    {
      "cell_type": "code",
      "source": [
        "# Install required packages for flight agent\n",
        "!pip install -q serpapi"
      ],
      "metadata": {
        "id": "EkYh_mHEr65V"
      },
      "execution_count": 25,
      "outputs": []
    },
    {
      "cell_type": "code",
      "source": [
        "os.environ[\"SERPAPI_API_KEY\"] = getpass.getpass(\"SERPAPI_API_KEY\")"
      ],
      "metadata": {
        "colab": {
          "base_uri": "https://localhost:8080/"
        },
        "id": "vlj6jrqTtAli",
        "outputId": "59c70d2b-4ecc-4c60-d487-fbf7e8614679"
      },
      "execution_count": 26,
      "outputs": [
        {
          "name": "stdout",
          "output_type": "stream",
          "text": [
            "SERPAPI_API_KEY··········\n"
          ]
        }
      ]
    },
    {
      "cell_type": "markdown",
      "source": [
        "###### Build Flight Search Tool"
      ],
      "metadata": {
        "id": "AtMnaAEutLn8"
      }
    },
    {
      "cell_type": "code",
      "source": [
        "import serpapi"
      ],
      "metadata": {
        "id": "juxvstD2t17N"
      },
      "execution_count": 30,
      "outputs": []
    },
    {
      "cell_type": "code",
      "source": [
        "from langchain.tools import Tool\n",
        "\n",
        "# Build flight search tool\n",
        "def search_flights(\n",
        "      departure_airport: str,\n",
        "      arrival_airport: str,\n",
        "      outbound_date: str,\n",
        "      return_date: str = None,\n",
        "      adults: int = 1,\n",
        "      children: int = 0\n",
        "    ) -> str:\n",
        "    \"\"\"\n",
        "    Search for flights using Google Flights engine.\n",
        "\n",
        "    Args:\n",
        "        departure_airport: Departure airport code (e.g., 'NYC', 'LAX')\n",
        "        arrival_airport: Arrival airport code (e.g., 'LON', 'NRT')\n",
        "        outbound_date: Departure date (YYYY-MM-DD format)\n",
        "        return_date: Return date (YYYY-MM-DD format, optional for one-way)\n",
        "        adults: Number of adult passengers (default: 1)\n",
        "        children: Number of child passengers (default: 0)\n",
        "    \"\"\"\n",
        "    params = {\n",
        "        'api_key': os.environ.get('SERPAPI_API_KEY'),\n",
        "        'engine': 'google_flights',\n",
        "        'hl': 'en',\n",
        "        'gl': 'us',\n",
        "        'departure_id': departure_airport,\n",
        "        'arrival_id': arrival_airport,\n",
        "        'outbound_date': outbound_date,\n",
        "        'return_date': return_date,\n",
        "        'currency': 'USD',\n",
        "        'adults': adults,\n",
        "        'children': children,\n",
        "        'stops': '1'\n",
        "    }\n",
        "\n",
        "    try:\n",
        "        search = serpapi.search(params)\n",
        "        results = search.data.get('best_flights', [])\n",
        "        return json.dumps(results, indent=2)\n",
        "    except Exception as e:\n",
        "        return f\"Flight search failed: {str(e)}\""
      ],
      "metadata": {
        "id": "89MLNtMetG70"
      },
      "execution_count": 31,
      "outputs": []
    },
    {
      "cell_type": "markdown",
      "source": [
        "###### Define Flight Agent"
      ],
      "metadata": {
        "id": "rm_r-GXxujzb"
      }
    },
    {
      "cell_type": "code",
      "source": [
        "# flight agent prompt\n",
        "flight_prompt = ChatPromptTemplate.from_messages([\n",
        "    (\"system\", \"\"\"You are a flight booking expert. ONLY respond to flight-related queries.\n",
        "\n",
        "IMPORTANT RULES:\n",
        "- If asked about non-flight topics, politely decline and redirect to flight booking\n",
        "- Always use the search_flights tool to find current flight information\n",
        "- You CAN search for flights and analyze the results for:\n",
        "  * Direct flights vs connecting flights\n",
        "  * Different airlines and flight classes\n",
        "  * Various price ranges and timing options\n",
        "  * Flight duration and layover information\n",
        "- When users ask for specific preferences (direct flights, specific class, etc.), search first then filter/analyze the results\n",
        "- Present results clearly organized by outbound and return flights\n",
        "\n",
        "Available tools:\n",
        "- search_flights: Search for comprehensive flight data that includes all airlines, classes, and connection types\n",
        "\n",
        "Process:\n",
        "1. ALWAYS search for flights first using the tool\n",
        "2. Analyze the results to find flights matching user preferences\n",
        "3. Present organized results with clear recommendations\n",
        "\n",
        "Airport code mapping:\n",
        "- Delhi: DEL\n",
        "- London Heathrow: LHR\n",
        "- New York: JFK/LGA/EWR\n",
        "- etc.\"\"\"),\n",
        "    MessagesPlaceholder(variable_name=\"messages\"),\n",
        "])"
      ],
      "metadata": {
        "id": "PL_c6HS9uniK"
      },
      "execution_count": 32,
      "outputs": []
    },
    {
      "cell_type": "code",
      "source": [
        "# Bind tools and create flight agent\n",
        "llm_with_flight_tools = llm.bind_tools([search_flights])"
      ],
      "metadata": {
        "id": "mEDALB_huucs"
      },
      "execution_count": 33,
      "outputs": []
    },
    {
      "cell_type": "code",
      "source": [
        "# flight agent\n",
        "flight_agent = flight_prompt | llm_with_flight_tools"
      ],
      "metadata": {
        "id": "oy5mbrH0uytd"
      },
      "execution_count": 34,
      "outputs": []
    },
    {
      "cell_type": "markdown",
      "source": [
        "### Hotel Agent"
      ],
      "metadata": {
        "id": "SrScEdvpu8Qw"
      }
    },
    {
      "cell_type": "code",
      "source": [
        "# hotel search tool\n",
        "def search_hotels(location: str, check_in_date: str, check_out_date: str, adults: int = 1, children: int = 0, rooms: int = 1, hotel_class: str = None, sort_by: int = 8) -> str:\n",
        "    \"\"\"\n",
        "    Search for hotels using Google Hotels engine.\n",
        "\n",
        "    Args:\n",
        "        location: Location to search for hotels (e.g., 'New York', 'Paris', 'Tokyo')\n",
        "        check_in_date: Check-in date (YYYY-MM-DD format)\n",
        "        check_out_date: Check-out date (YYYY-MM-DD format)\n",
        "        adults: Number of adults (default: 1)\n",
        "        children: Number of children (default: 0)\n",
        "        rooms: Number of rooms (default: 1)\n",
        "        hotel_class: Hotel class filter (e.g., '2,3,4' for 2-4 star hotels)\n",
        "        sort_by: Sort parameter (default: 8 for highest rating)\n",
        "    \"\"\"\n",
        "\n",
        "    # Ensure proper integer types\n",
        "    adults = int(float(adults)) if adults else 1\n",
        "    children = int(float(children)) if children else 0\n",
        "    rooms = int(float(rooms)) if rooms else 1\n",
        "    sort_by = int(float(sort_by)) if sort_by else 8\n",
        "\n",
        "    params = {\n",
        "        'api_key': os.environ.get('SERPAPI_API_KEY'),\n",
        "        'engine': 'google_hotels',\n",
        "        'hl': 'en',\n",
        "        'gl': 'us',\n",
        "        'q': location,\n",
        "        'check_in_date': check_in_date,\n",
        "        'check_out_date': check_out_date,\n",
        "        'currency': 'USD',\n",
        "        'adults': adults,\n",
        "        'children': children,\n",
        "        'rooms': rooms,\n",
        "        'sort_by': sort_by\n",
        "    }\n",
        "\n",
        "    # Only add hotel_class if provided\n",
        "    if hotel_class:\n",
        "        params['hotel_class'] = hotel_class\n",
        "\n",
        "    try:\n",
        "        search = serpapi.search(params)\n",
        "        properties = search.data.get('properties', [])\n",
        "\n",
        "        if not properties:\n",
        "            return f\"No hotels found. Available data keys: {list(search.data.keys())}\"\n",
        "\n",
        "        # Return top 5 results\n",
        "        return json.dumps(properties[:5], indent=2)\n",
        "\n",
        "    except Exception as e:\n",
        "        return f\"Hotel search failed: {str(e)}\""
      ],
      "metadata": {
        "id": "sQVpjc_du2Q9"
      },
      "execution_count": 35,
      "outputs": []
    },
    {
      "cell_type": "code",
      "source": [
        "# Hotel agent prompt\n",
        "hotel_prompt = ChatPromptTemplate.from_messages([\n",
        "    (\"system\", \"\"\"You are a hotel booking expert. ONLY respond to hotel and accommodation-related queries.\n",
        "\n",
        "IMPORTANT RULES:\n",
        "- If asked about non-hotel topics, politely decline and redirect to hotel booking\n",
        "- Always use the search_hotels tool to find current hotel information\n",
        "- Provide detailed hotel options with prices, ratings, amenities, and location details\n",
        "- Include practical booking advice and tips\n",
        "- You CAN search and analyze results for different criteria like star ratings, price ranges, amenities\n",
        "\n",
        "Available tools:\n",
        "- search_hotels: Search for hotels using Google Hotels engine\n",
        "\n",
        "When searching hotels, extract or ask for:\n",
        "- Location/destination\n",
        "- Check-in and check-out dates (YYYY-MM-DD format)\n",
        "- Number of guests (adults, children)\n",
        "- Number of rooms\n",
        "- Hotel preferences (star rating, amenities, etc.)\n",
        "\n",
        "Present results with:\n",
        "- Hotel name and star rating\n",
        "- Price per night and total cost\n",
        "- Key amenities and features\n",
        "- Location and nearby attractions\n",
        "- Booking recommendations\"\"\"),\n",
        "    MessagesPlaceholder(variable_name=\"messages\"),\n",
        "])"
      ],
      "metadata": {
        "id": "0OYTRkuwvDxI"
      },
      "execution_count": 36,
      "outputs": []
    },
    {
      "cell_type": "code",
      "source": [
        "# Bind tools and create hotel agent\n",
        "llm_with_hotel_tools = llm.bind_tools([search_hotels])\n",
        "hotel_agent = hotel_prompt | llm_with_hotel_tools"
      ],
      "metadata": {
        "id": "UuhNZwdlvJbX"
      },
      "execution_count": 37,
      "outputs": []
    },
    {
      "cell_type": "markdown",
      "source": [
        "## Step 4 - Create Router\n"
      ],
      "metadata": {
        "id": "9aWUFWagvhY-"
      }
    },
    {
      "cell_type": "code",
      "source": [
        "from langchain_core.output_parsers import StrOutputParser\n",
        "\n",
        "def create_router():\n",
        "    \"\"\"Creates a router for the three travel agents using LangGraph patterns\"\"\"\n",
        "\n",
        "    router_prompt = ChatPromptTemplate.from_messages([\n",
        "        (\"system\", \"\"\"You are a routing expert for a travel planning system.\n",
        "\n",
        "        Analyze the user's query and decide which specialist agent should handle it:\n",
        "\n",
        "        - FLIGHT: Flight bookings, airlines, air travel, flight search, tickets, airports, departures, arrivals, airline prices\n",
        "        - HOTEL: Hotels, accommodations, stays, rooms, hotel bookings, lodging, resorts, hotel search, hotel prices\n",
        "        - ITINERARY: Travel itineraries, trip planning, destinations, activities, attractions, sightseeing, travel advice, weather, culture, food, general travel questions\n",
        "\n",
        "        Respond with ONLY one word: FLIGHT, HOTEL, or ITINERARY\n",
        "\n",
        "        Examples:\n",
        "        \"Book me a flight to Paris\" → FLIGHT\n",
        "        \"Find hotels in Tokyo\" → HOTEL\n",
        "        \"Plan my 5-day trip to Italy\" → ITINERARY\n",
        "        \"Search flights from NYC to London\" → FLIGHT\n",
        "        \"Where should I stay in Bali?\" → HOTEL\n",
        "        \"What are the best attractions in Rome?\" → ITINERARY\n",
        "        \"I need airline tickets\" → FLIGHT\n",
        "        \"Show me hotel options\" → HOTEL\n",
        "        \"Create an itinerary for Japan\" → ITINERARY\"\"\"),\n",
        "\n",
        "        (\"user\", \"Query: {query}\")\n",
        "    ])\n",
        "\n",
        "    router_chain = router_prompt | llm | StrOutputParser()\n",
        "    def route_query(state):\n",
        "        \"\"\"Router function for LangGraph - decides which agent to call next\"\"\"\n",
        "\n",
        "        # Get the latest user message\n",
        "        user_message = state[\"messages\"][-1].content\n",
        "\n",
        "        print(f\"🧭 Router analyzing: '{user_message[:50]}...'\")\n",
        "\n",
        "        try:\n",
        "            # Get LLM routing decision\n",
        "            decision = router_chain.invoke({\"query\": user_message}).strip().upper()\n",
        "\n",
        "            # Map to our agent node names\n",
        "            agent_mapping = {\n",
        "                \"FLIGHT\": \"flight_agent\",\n",
        "                \"HOTEL\": \"hotel_agent\",\n",
        "                \"ITINERARY\": \"itenary_agent\"\n",
        "            }\n",
        "\n",
        "            next_agent = agent_mapping.get(decision, \"itenary_agent\")\n",
        "            print(f\"🎯 Router decision: {decision} → {next_agent}\")\n",
        "\n",
        "            return next_agent\n",
        "\n",
        "        except Exception as e:\n",
        "            print(f\"⚠️ Router error, defaulting to itenary_agent: {e}\")\n",
        "            return \"itenary_agent\"\n",
        "\n",
        "    return route_query"
      ],
      "metadata": {
        "id": "j1g0OfzZvilD"
      },
      "execution_count": 38,
      "outputs": []
    },
    {
      "cell_type": "code",
      "source": [
        "# Create the router\n",
        "router = create_router()\n",
        "print(\"✅ Travel Router created for LangGraph!\")"
      ],
      "metadata": {
        "colab": {
          "base_uri": "https://localhost:8080/"
        },
        "id": "VraR2e7Pv_k8",
        "outputId": "e6c4721b-cccb-4364-dcc0-095aadedd3d8"
      },
      "execution_count": 39,
      "outputs": [
        {
          "output_type": "stream",
          "name": "stdout",
          "text": [
            "✅ Travel Router created for LangGraph!\n"
          ]
        }
      ]
    },
    {
      "cell_type": "markdown",
      "source": [
        "## Step 5 - Define the State Schema"
      ],
      "metadata": {
        "id": "1wQBJD7lwLSt"
      }
    },
    {
      "cell_type": "code",
      "source": [
        "from typing import TypedDict, Annotated, List, Optional\n",
        "import operator\n",
        "from langchain_core.messages import BaseMessage\n",
        "\n",
        "class TravelPlannerState(TypedDict):\n",
        "    \"\"\"Simple state schema for travel multiagent system\"\"\"\n",
        "\n",
        "    # Conversation history - persisted with checkpoint memory\n",
        "    messages: Annotated[List[BaseMessage], operator.add]\n",
        "\n",
        "    # Agent routing\n",
        "    next_agent: Optional[str]\n",
        "\n",
        "    # Current user query\n",
        "    user_query: Optional[str]"
      ],
      "metadata": {
        "id": "BG45PW-CwJiD"
      },
      "execution_count": 40,
      "outputs": []
    },
    {
      "cell_type": "markdown",
      "source": [
        "## Step 6 - Create Agent Nodes"
      ],
      "metadata": {
        "id": "y6VBfVchwczT"
      }
    },
    {
      "cell_type": "markdown",
      "source": [
        "###### Itenary Agent Node"
      ],
      "metadata": {
        "id": "Ljd7f8jswdyk"
      }
    },
    {
      "cell_type": "code",
      "source": [
        "from langchain_core.messages import ToolMessage\n",
        "\n",
        "# Agent node functions\n",
        "def itinerary_agent_node(state: TravelPlannerState):\n",
        "    \"\"\"Itinerary planning agent node\"\"\"\n",
        "    messages = state[\"messages\"]\n",
        "    response = itenary_agent.invoke({\"messages\": messages})\n",
        "\n",
        "    # Handle tool calls if present\n",
        "    if hasattr(response, 'tool_calls') and response.tool_calls:\n",
        "        tool_messages = []\n",
        "        for tool_call in response.tool_calls:\n",
        "            if tool_call['name'] == 'tavily_search_results_json':\n",
        "                try:\n",
        "                    tool_result = tool.search(query=tool_call['args']['query'], max_results=2)\n",
        "                    tool_result = json.dumps(tool_result, indent=2)\n",
        "                except Exception as e:\n",
        "                    tool_result = f\"Search failed: {str(e)}\"\n",
        "\n",
        "                tool_messages.append(ToolMessage(\n",
        "                    content=tool_result,\n",
        "                    tool_call_id=tool_call['id']\n",
        "                ))\n",
        "\n",
        "        if tool_messages:\n",
        "            all_messages = messages + [response] + tool_messages\n",
        "            final_response = itenary_agent.invoke({\"messages\": all_messages})\n",
        "            return {\"messages\": [response] + tool_messages + [final_response]}\n",
        "\n",
        "    return {\"messages\": [response]}"
      ],
      "metadata": {
        "id": "opY8OYQNwhvK"
      },
      "execution_count": 41,
      "outputs": []
    },
    {
      "cell_type": "markdown",
      "source": [
        "###### Flight Agent Agent Node"
      ],
      "metadata": {
        "id": "82_LDlyewzBw"
      }
    },
    {
      "cell_type": "code",
      "source": [
        "def flight_agent_node(state: TravelPlannerState):\n",
        "    \"\"\"Flight booking agent node\"\"\"\n",
        "    messages = state[\"messages\"]\n",
        "    response = flight_agent.invoke({\"messages\": messages})\n",
        "\n",
        "    if hasattr(response, 'tool_calls') and response.tool_calls:\n",
        "        tool_messages = []\n",
        "        for tool_call in response.tool_calls:\n",
        "            if tool_call['name'] == 'search_flights':\n",
        "                try:\n",
        "                    tool_result = search_flights(**tool_call['args'])\n",
        "                except Exception as e:\n",
        "                    tool_result = f\"Flight search failed: {str(e)}\"\n",
        "\n",
        "                tool_messages.append(ToolMessage(\n",
        "                    content=tool_result,\n",
        "                    tool_call_id=tool_call['id']\n",
        "                ))\n",
        "\n",
        "        if tool_messages:\n",
        "            all_messages = messages + [response] + tool_messages\n",
        "            final_response = flight_agent.invoke({\"messages\": all_messages})\n",
        "            return {\"messages\": [response] + tool_messages + [final_response]}\n",
        "\n",
        "    return {\"messages\": [response]}"
      ],
      "metadata": {
        "id": "bcUUlOcAw0pn"
      },
      "execution_count": 42,
      "outputs": []
    },
    {
      "cell_type": "markdown",
      "source": [
        "###### Hotel Agent Node"
      ],
      "metadata": {
        "id": "Tb15qnDRw5pW"
      }
    },
    {
      "cell_type": "code",
      "source": [
        "def hotel_agent_node(state: TravelPlannerState):\n",
        "    \"\"\"Hotel booking agent node\"\"\"\n",
        "    messages = state[\"messages\"]\n",
        "    response = hotel_agent.invoke({\"messages\": messages})\n",
        "\n",
        "    if hasattr(response, 'tool_calls') and response.tool_calls:\n",
        "        tool_messages = []\n",
        "        for tool_call in response.tool_calls:\n",
        "            if tool_call['name'] == 'search_hotels':\n",
        "                try:\n",
        "                    tool_result = search_hotels(**tool_call['args'])\n",
        "                except Exception as e:\n",
        "                    tool_result = f\"Hotel search failed: {str(e)}\"\n",
        "\n",
        "                tool_messages.append(ToolMessage(\n",
        "                    content=tool_result,\n",
        "                    tool_call_id=tool_call['id']\n",
        "                ))\n",
        "\n",
        "        if tool_messages:\n",
        "            all_messages = messages + [response] + tool_messages\n",
        "            final_response = hotel_agent.invoke({\"messages\": all_messages})\n",
        "            return {\"messages\": [response] + tool_messages + [final_response]}\n",
        "\n",
        "    return {\"messages\": [response]}"
      ],
      "metadata": {
        "id": "aO1wlkNhw8gM"
      },
      "execution_count": 43,
      "outputs": []
    },
    {
      "cell_type": "markdown",
      "source": [
        "###### Router Node"
      ],
      "metadata": {
        "id": "4nHiP05RxB4j"
      }
    },
    {
      "cell_type": "code",
      "source": [
        "def router_node(state: TravelPlannerState):\n",
        "    \"\"\"Router node - determines which agent should handle the query\"\"\"\n",
        "    user_message = state[\"messages\"][-1].content\n",
        "    next_agent = router(state)\n",
        "\n",
        "    return {\n",
        "        \"next_agent\": next_agent,\n",
        "        \"user_query\": user_message\n",
        "    }"
      ],
      "metadata": {
        "id": "sxoYdTCcxFp2"
      },
      "execution_count": 44,
      "outputs": []
    },
    {
      "cell_type": "markdown",
      "source": [
        "## Step 7 - Conditonal Function"
      ],
      "metadata": {
        "id": "q3iUmBklxKCh"
      }
    },
    {
      "cell_type": "code",
      "source": [
        "# Conditional routing function\n",
        "\n",
        "def route_to_agent(state: TravelPlannerState):\n",
        "    \"\"\"Conditional edge function - routes to appropriate agent based on router decision\"\"\"\n",
        "\n",
        "    next_agent = state.get(\"next_agent\")\n",
        "\n",
        "    if next_agent == \"flight_agent\":\n",
        "        return \"flight_agent\"\n",
        "    elif next_agent == \"hotel_agent\":\n",
        "        return \"hotel_agent\"\n",
        "    elif next_agent == \"itenary_agent\":\n",
        "        return \"itenary_agent\"\n",
        "    else:\n",
        "        # Default fallback\n",
        "        return \"itenary_agent\"\n",
        "\n",
        "\n",
        "##### ----> A better approach\n",
        "# def route_to_agent(state: TravelPlannerState) -> Literal[\"flight_agent\", \"hotel_agent\", \"itenary_agent\"]:\n",
        "#     \"\"\"Route to the appropriate agent based on router decision\"\"\"\n",
        "#     return state[\"next_agent\"]"
      ],
      "metadata": {
        "id": "nSg05G5axNJd"
      },
      "execution_count": 45,
      "outputs": []
    },
    {
      "cell_type": "markdown",
      "source": [
        "## Step 8 - Build Graph & Add Memory"
      ],
      "metadata": {
        "id": "IVFZzPrCxWGP"
      }
    },
    {
      "cell_type": "code",
      "source": [
        "from langgraph.graph import StateGraph, END\n",
        "from typing import Literal\n",
        "from langgraph.checkpoint.memory import InMemorySaver\n",
        "\n",
        "# Build the complete travel planning graph\n",
        "workflow = StateGraph(TravelPlannerState)\n",
        "\n",
        "# Add all nodes to the graph\n",
        "workflow.add_node(\"router\", router_node)\n",
        "workflow.add_node(\"flight_agent\", flight_agent_node)\n",
        "workflow.add_node(\"hotel_agent\", hotel_agent_node)\n",
        "workflow.add_node(\"itenary_agent\", itinerary_agent_node)"
      ],
      "metadata": {
        "colab": {
          "base_uri": "https://localhost:8080/"
        },
        "id": "-iIKV2RkxTZ3",
        "outputId": "0748f788-2129-4570-d4b7-5cba77235824"
      },
      "execution_count": 46,
      "outputs": [
        {
          "output_type": "execute_result",
          "data": {
            "text/plain": [
              "<langgraph.graph.state.StateGraph at 0x7b03ce34f350>"
            ]
          },
          "metadata": {},
          "execution_count": 46
        }
      ]
    },
    {
      "cell_type": "code",
      "source": [
        "# Set entry point - always start with router\n",
        "workflow.set_entry_point(\"router\")\n",
        "\n",
        "# Add conditional edge from router to appropriate agent\n",
        "workflow.add_conditional_edges(\n",
        "    \"router\",\n",
        "    route_to_agent,\n",
        "    {\n",
        "        \"flight_agent\": \"flight_agent\",\n",
        "        \"hotel_agent\": \"hotel_agent\",\n",
        "        \"itenary_agent\": \"itenary_agent\"\n",
        "    }\n",
        ")\n",
        "\n",
        "# Add edges from each agent back to END\n",
        "workflow.add_edge(\"flight_agent\", END)\n",
        "workflow.add_edge(\"hotel_agent\", END)\n",
        "workflow.add_edge(\"itenary_agent\", END)\n",
        "\n",
        "checkpointer = InMemorySaver()\n",
        "\n",
        "# Compile the graph\n",
        "travel_planner = workflow.compile(checkpointer=checkpointer)\n",
        "\n",
        "print(\"✅ Travel Planning Graph built successfully!\")"
      ],
      "metadata": {
        "colab": {
          "base_uri": "https://localhost:8080/"
        },
        "id": "JikgpcMuxceo",
        "outputId": "e7a12a92-d8a9-4c99-a2ad-3c4f534cab7e"
      },
      "execution_count": 47,
      "outputs": [
        {
          "output_type": "stream",
          "name": "stdout",
          "text": [
            "✅ Travel Planning Graph built successfully!\n"
          ]
        }
      ]
    },
    {
      "cell_type": "code",
      "source": [
        "from IPython.display import Image, display\n",
        "\n",
        "# Generate and display the graph\n",
        "graph_image = travel_planner.get_graph().draw_mermaid_png()\n",
        "display(Image(graph_image))"
      ],
      "metadata": {
        "colab": {
          "base_uri": "https://localhost:8080/",
          "height": 350
        },
        "id": "Vfxs6IxqxhPf",
        "outputId": "47c3f7c4-23fe-4e65-9687-c1bdf806d5a9"
      },
      "execution_count": 48,
      "outputs": [
        {
          "output_type": "display_data",
          "data": {
            "image/png": "[encoded data removed]",
            "text/plain": [
              "<IPython.core.display.Image object>"
            ]
          },
          "metadata": {}
        }
      ]
    },
    {
      "cell_type": "markdown",
      "source": [
        "## Step 9 - Test The Mullti-Agent System"
      ],
      "metadata": {
        "id": "vQZvB1M0xwqv"
      }
    },
    {
      "cell_type": "code",
      "source": [
        "from langchain_core.messages import HumanMessage\n",
        "\n",
        "def test_system(query, thread_id=\"default_thread\"):\n",
        "    \"\"\"Test our multi-agent system\"\"\"\n",
        "    print(f\"🧑 User: {query}\")\n",
        "\n",
        "    # Create initial state\n",
        "    initial_state = {\n",
        "        \"messages\": [HumanMessage(content=query)],\n",
        "        \"next_agent\": \"\"\n",
        "    }\n",
        "\n",
        "    # Define config for checkpointer\n",
        "    config = {\"configurable\": {\"thread_id\": thread_id}}\n",
        "\n",
        "    # Run the system (use travel_planner instead of app)\n",
        "    result = travel_planner.invoke(initial_state, config=config)\n",
        "\n",
        "    # Get the response\n",
        "    response = result[\"messages\"][-1].content\n",
        "    print(f\"🤖 Assistant: {response}\")\n",
        "    print(\"-\" * 50)"
      ],
      "metadata": {
        "id": "YqgVsXRmx0Zz"
      },
      "execution_count": 53,
      "outputs": []
    },
    {
      "cell_type": "code",
      "source": [
        "# Test with different queries\n",
        "test_system(\"I need to book a flight to Paris\")\n",
        "test_system(\"Find me a good hotel in New Delhi on 15 October 2025 for 1 night for 1 adult\")\n",
        "test_system(\"What's the weather like in Paris?\")"
      ],
      "metadata": {
        "colab": {
          "base_uri": "https://localhost:8080/"
        },
        "id": "zlmQQYDVx5lx",
        "outputId": "692e91d8-6dfb-4488-b185-a75892de8ab5"
      },
      "execution_count": 56,
      "outputs": [
        {
          "output_type": "stream",
          "name": "stdout",
          "text": [
            "🧑 User: I need to book a flight to Paris\n",
            "🧭 Router analyzing: 'I need to book a flight to Paris...'\n",
            "🎯 Router decision: FLIGHT → flight_agent\n",
            "🤖 Assistant: Okay, I can help you with that. I need a bit more information.\n",
            "\n",
            "*   **Departure Airport:** Where will you be flying from? (e.g., New York, London, Delhi)\n",
            "*   **Departure Date:** When would you like to leave? (Please use YYYY-MM-DD format)\n",
            "*   **Return Date:** When would you like to return? (Please use YYYY-MM-DD format, optional for one-way flights)\n",
            "*   **Number of Passengers:** How many adults and children will be traveling?\n",
            "\n",
            "Once I have this information, I can search for available flights.\n",
            "--------------------------------------------------\n",
            "🧑 User: Find me a good hotel in New Delhi on 15 October 2025 for 1 night for 1 adult\n",
            "🧭 Router analyzing: 'Find me a good hotel in New Delhi on 15 October 20...'\n",
            "🎯 Router decision: HOTEL → hotel_agent\n",
            "🤖 Assistant: OK. I found several hotels in New Delhi for your dates. Here are a few options:\n",
            "\n",
            "1.  **Hotel Gold Regency** (3-star)\n",
            "    *   Price: \\$47 per night (before taxes and fees), total \\$50\n",
            "    *   Amenities: Free breakfast, Free Wi-Fi, Parking, Restaurant, Room service\n",
            "    *   Location: Near Jantar Mantar and New Delhi Railway Station\n",
            "    *   Rating: 5 stars (8926 reviews)\n",
            "2.  **UDMAN HOTEL CHATTARPUR** (4-star)\n",
            "    *   Price: \\$66 per night (before taxes and fees), total \\$72\n",
            "    *   Amenities: Free breakfast, Free Wi-Fi, Parking, Pet-friendly, Restaurant, Room service\n",
            "    *   Location: Near Shani Dham Mandir\n",
            "    *   Rating: 4.9 stars (941 reviews)\n",
            "3.  **JR RESIDENCY** (3-star)\n",
            "    *   Price: Contact hotel for price\n",
            "    *   Amenities: Free breakfast, Free Wi-Fi, Free parking, Restaurant, Room service\n",
            "    *   Location: Near Indira Gandhi International Airport\n",
            "    *   Rating: 4.9 stars (447 reviews)\n",
            "4.  **Hotel Pride Plaza** (5-star)\n",
            "    *   Price: \\$99 per night (before taxes and fees), total \\$116\n",
            "    *   Amenities: Breakfast ($), Wi-Fi ($), Free parking, Outdoor pool, Hot tub, Air conditioning, Restaurant, Room service\n",
            "    *   Location: Near Indira Gandhi International Airport\n",
            "    *   Rating: 4.8 stars (15796 reviews)\n",
            "    *   Deal: 20% less than usual\n",
            "5.  **Airport Hotel Tashree** (3-star)\n",
            "    *   Price: \\$56 per night (before taxes and fees), total \\$59\n",
            "    *   Amenities: Free breakfast, Free Wi-Fi, Free parking, Restaurant, Room service\n",
            "    *   Location: Near Indira Gandhi International Airport\n",
            "    *   Rating: 4.8 stars (3625 reviews)\n",
            "\n",
            "I recommend Hotel Gold Regency for its high rating, central location, and affordable price. However, if you prefer a more luxurious experience, Hotel Pride Plaza offers 5-star amenities and is currently offering a deal.\n",
            "--------------------------------------------------\n",
            "🧑 User: What's the weather like in Paris?\n",
            "🧭 Router analyzing: 'What's the weather like in Paris?...'\n",
            "🎯 Router decision: ITINERARY → itenary_agent\n",
            "🤖 Assistant: I am designed to be a travel itinerary planner. I can help you plan your trip to Paris, but I cannot provide weather information.\n",
            "--------------------------------------------------\n"
          ]
        }
      ]
    },
    {
      "cell_type": "markdown",
      "source": [
        "## Step 10 - Build an Interactive Chatbot"
      ],
      "metadata": {
        "id": "sHl1ljPvzFCx"
      }
    },
    {
      "cell_type": "code",
      "source": [
        "from langchain_core.messages import HumanMessage\n",
        "\n",
        "def multi_turn_chat():\n",
        "    \"\"\"Multi-turn conversation with checkpoint memory\"\"\"\n",
        "    print(\"💬 Multi-Agent Travel Assistant (Multi-turn Mode)\")\n",
        "    print(\"=\" * 50)\n",
        "\n",
        "    # For multi-turn, you need a consistent thread/session ID\n",
        "    config = {\"configurable\": {\"thread_id\": \"1\"}}\n",
        "\n",
        "    while True:\n",
        "        user_input = input(\"\\n🧑 You: \")\n",
        "\n",
        "        if user_input.lower() == 'quit':\n",
        "            break\n",
        "\n",
        "        print(f\"\\n📊 Processing query...\")\n",
        "\n",
        "        # For multi-turn, just add the new message\n",
        "        # The graph will maintain conversation history automatically\n",
        "        result = travel_planner.invoke(\n",
        "            {\"messages\": [HumanMessage(content=user_input)]},\n",
        "            config\n",
        "        )\n",
        "\n",
        "        response = result[\"messages\"][-1].content\n",
        "        print(f\"\\n🤖 Assistant: {response}\")\n",
        "        print(\"-\" * 50)\n",
        "\n",
        "# Test multi-turn conversation\n",
        "multi_turn_chat()"
      ],
      "metadata": {
        "colab": {
          "base_uri": "https://localhost:8080/"
        },
        "id": "73IzpUO8zF_v",
        "outputId": "35b47e6e-8fa2-4ee8-812b-3e4240771007"
      },
      "execution_count": 57,
      "outputs": [
        {
          "name": "stdout",
          "output_type": "stream",
          "text": [
            "💬 Multi-Agent Travel Assistant (Multi-turn Mode)\n",
            "==================================================\n",
            "\n",
            "🧑 You: hi\n",
            "\n",
            "📊 Processing query...\n",
            "🧭 Router analyzing: 'hi...'\n",
            "🎯 Router decision: ITINERARY → itenary_agent\n",
            "\n",
            "🤖 Assistant: Hello! I am your personal travel itinerary planner. How can I help you plan your next trip?\n",
            "--------------------------------------------------\n",
            "\n",
            "🧑 You: 7 day travel plan for Morocco\n",
            "\n",
            "📊 Processing query...\n",
            "🧭 Router analyzing: '7 day travel plan for Morocco...'\n",
            "🎯 Router decision: ITINERARY → itenary_agent\n",
            "\n",
            "🤖 Assistant: Okay! To create the best possible 7-day Morocco itinerary for you, I need a little more information.\n",
            "\n",
            "1.  **What is your arrival/departure airport?** (e.g., Casablanca, Marrakech, Fez)\n",
            "2.  **What are your interests?** (e.g., history, culture, food, adventure, relaxation)\n",
            "3.  **What is your budget?** (e.g., budget, mid-range, luxury)\n",
            "4.  **When are you planning to travel?** (This helps me check for weather considerations or special events)\n",
            "\n",
            "In the meantime, here's a popular general itinerary to give you an idea:\n",
            "\n",
            "**Day 1: Arrive in Marrakech**\n",
            "\n",
            "*   Arrive at Marrakech Menara Airport (RAK).\n",
            "*   Transfer to your riad (traditional Moroccan house with an interior courtyard) in the Medina (old city).\n",
            "*   Afternoon: Explore Djemaa el-Fna square, a vibrant marketplace with food stalls, storytellers, and performers.\n",
            "*   Evening: Enjoy a traditional Moroccan dinner at a restaurant in the Medina.\n",
            "\n",
            "**Day 2: Marrakech Medina**\n",
            "\n",
            "*   Morning: Visit the Bahia Palace, a stunning example of Moroccan architecture.\n",
            "*   Explore the Saadian Tombs, a hidden gem dating back to the 16th century.\n",
            "*   Afternoon: Wander through the souks (markets), filled with spices, textiles, and handicrafts.\n",
            "*   Optional: Take a cooking class to learn how to prepare Moroccan dishes.\n",
            "\n",
            "**Day 3: Atlas Mountains Day Trip**\n",
            "\n",
            "*   Day trip to the Atlas Mountains.\n",
            "*   Visit Berber villages and learn about their culture.\n",
            "*   Hike to waterfalls or enjoy panoramic views of the mountains.\n",
            "*   Enjoy a traditional Berber lunch.\n",
            "\n",
            "**Day 4: Travel to the Sahara Desert (Merzouga)**\n",
            "\n",
            "*   Early morning departure for Merzouga (long travel day).\n",
            "*   Drive through the Draa Valley, known for its palm groves and ancient kasbahs.\n",
            "*   Arrive in Merzouga, a desert town on the edge of the Erg Chebbi dunes.\n",
            "*   Evening: Camel trek into the Erg Chebbi dunes to watch the sunset.\n",
            "*   Spend the night in a desert camp.\n",
            "\n",
            "**Day 5: Sahara Desert**\n",
            "\n",
            "*   Morning: Sunrise over the dunes.\n",
            "*   Optional: Sandboarding, quad biking, or 4x4 excursion in the desert.\n",
            "*   Afternoon: Visit a local Gnawa village and learn about their music and culture.\n",
            "*   Evening: Enjoy a traditional Moroccan dinner and music around a campfire.\n",
            "\n",
            "**Day 6: Travel to Fes**\n",
            "\n",
            "*   Long travel day from Merzouga to Fes.\n",
            "*   Stop at scenic viewpoints along the way.\n",
            "*   Arrive in Fes in the late afternoon/early evening.\n",
            "*   Check into your riad in the Fes el Bali (old city).\n",
            "\n",
            "**Day 7: Fes Medina & Departure**\n",
            "\n",
            "*   Morning: Explore the Fes el Bali, a UNESCO World Heritage Site.\n",
            "*   Visit the Al-Attarine Madrasa, a beautiful Islamic school.\n",
            "*   See the Chouara tanneries, where leather is processed using traditional methods.\n",
            "*   Afternoon: Visit a ceramic factory and learn about the art of Moroccan pottery.\n",
            "*   Transfer to Fes–Saïs Airport (FEZ) for your departure.\n",
            "\n",
            "I look forward to hearing more about your preferences so I can customize this itinerary for you!\n",
            "--------------------------------------------------\n",
            "\n",
            "🧑 You: What are some must try foods there?\n",
            "\n",
            "📊 Processing query...\n",
            "🧭 Router analyzing: 'What are some must try foods there?...'\n",
            "🎯 Router decision: ITINERARY → itenary_agent\n",
            "\n",
            "🤖 Assistant: Okay, here are some must-try foods in Morocco to include in your itinerary! I'll use the search tool to make sure I have the most up-to-date information.\n",
            "--------------------------------------------------\n",
            "\n",
            "🧑 You: Find me hotels for my itinerary\n",
            "\n",
            "📊 Processing query...\n",
            "🧭 Router analyzing: 'Find me hotels for my itinerary...'\n",
            "🎯 Router decision: HOTEL → hotel_agent\n",
            "\n",
            "🤖 Assistant: Okay, I can help you with that! To find the best hotels for your Morocco itinerary, I need a little more information. For each of the cities you plan to visit (e.g., Marrakech, Merzouga, Fes), please provide:\n",
            "\n",
            "*   **Check-in and check-out dates (YYYY-MM-DD)**\n",
            "*   **Number of adults**\n",
            "*   **Number of children (and their ages, if possible)**\n",
            "*   **Number of rooms**\n",
            "*   **Hotel preferences (star rating, amenities like swimming pool or free breakfast, budget)**\n",
            "\n",
            "For example, you could say:\n",
            "\n",
            "*   **Marrakech:** Check-in 2024-12-01, check-out 2024-12-03, 2 adults, 1 child (age 6), 1 room, 4-star hotel with a pool, budget $100-$150 per night.\n",
            "*   **Merzouga:** Check-in 2024-12-03, check-out 2024-12-04, 2 adults, 1 child (age 6), 1 room, desert camp, mid-range budget.\n",
            "*   **Fes:** Check-in 2024-12-04, check-out 2024-12-07, 2 adults, 1 child (age 6), 1 room, 3-star hotel in the Medina, budget $80-$120 per night.\n",
            "\n",
            "Once I have this information, I can search for hotels that meet your needs and provide you with some great options!\n",
            "--------------------------------------------------\n",
            "\n",
            "🧑 You: quit\n"
          ]
        }
      ]
    }
  ]
}